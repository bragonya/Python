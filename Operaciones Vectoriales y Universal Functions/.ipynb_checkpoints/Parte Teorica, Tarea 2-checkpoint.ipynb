{
 "cells": [
  {
   "cell_type": "markdown",
   "metadata": {},
   "source": [
    "\tSe debe investigar ciertos temas(listados a continuación) y escribir sus definiciones, conclusiones, comentarios ,y todo el texto y/o ilustraciones en Markdown y ejemplos en código ejecutable dentro del notebook.\n",
    "Para esta semana la parte a investigar(relacionada a nuestro tema actual y que será útil para el proyecto de clase) es proyección vectorial. Debemos investigar:\n",
    "\n",
    "- Que es proyección vectorial?\n",
    "-Definir una ufunc para calcular proyección vectorial sobre vectores de Numpy\n",
    "-Como interpretamos la proyección vectorial?\n",
    "-Utilizando la función del punto anterior calcularla para vectores de ejemplo e interpretar o concluir sobre el resultado.\n",
    "-Investigar o proponer una aplicación o caso de uso de proyección vectorial en ciencia de datos u otras ciencia de tu interés donde se pueda aplicar programación numérica. Como ejemplo o tip para esta parte: un algoritmo muy importante de ML se basa en esto y su nombre puede servir como pista para saber cual es."
   ]
  },
  {
   "cell_type": "code",
   "execution_count": null,
   "metadata": {},
   "outputs": [],
   "source": []
  }
 ],
 "metadata": {
  "kernelspec": {
   "display_name": "Python 3",
   "language": "python",
   "name": "python3"
  },
  "language_info": {
   "codemirror_mode": {
    "name": "ipython",
    "version": 3
   },
   "file_extension": ".py",
   "mimetype": "text/x-python",
   "name": "python",
   "nbconvert_exporter": "python",
   "pygments_lexer": "ipython3",
   "version": "3.7.1"
  }
 },
 "nbformat": 4,
 "nbformat_minor": 2
}
