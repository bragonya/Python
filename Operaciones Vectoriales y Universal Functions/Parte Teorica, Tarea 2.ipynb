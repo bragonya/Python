{
 "cells": [
  {
   "cell_type": "markdown",
   "metadata": {},
   "source": [
    "# Tarea de Investigación 2\n",
    "Se debe investigar ciertos temas(listados a continuación) y escribir sus definiciones, conclusiones, comentarios ,y todo el texto y/o ilustraciones en Markdown y ejemplos en código ejecutable dentro del notebook.\n",
    "\n",
    "Para esta semana la parte a investigar(relacionada a nuestro tema actual y que será útil para el proyecto de clase) es proyección vectorial. Debemos investigar:\n",
    "\n",
    "- Que es proyección vectorial?\n",
    "- Definir una ufunc para calcular proyección vectorial sobre vectores de Numpy\n",
    "- Como interpretamos la proyección vectorial?\n",
    "- Utilizando la función del punto anterior calcularla para vectores de ejemplo e interpretar o concluir sobre el resultado.\n",
    "- Investigar o proponer una aplicación o caso de uso de proyección vectorial en ciencia de datos u otras ciencia de tu interés donde se pueda aplicar programación numérica. Como ejemplo o tip para esta parte: un algoritmo muy importante de ML se basa en esto y su nombre puede servir como pista para saber cual es."
   ]
  },
  {
   "cell_type": "markdown",
   "metadata": {},
   "source": [
    "## ¿Qué es proyección vectorial?\n",
    "\n",
    "Es un vector que surge a partir de la sombra que produce un vector sobre otro vector o sobre el eje de coordenadas."
   ]
  },
  {
   "cell_type": "markdown",
   "metadata": {},
   "source": [
    "## Definir una ufunc para calcular proyección vectorial sobre vectores de Numpy\n",
    "Primero importamos numpy"
   ]
  },
  {
   "cell_type": "code",
   "execution_count": 1,
   "metadata": {},
   "outputs": [],
   "source": [
    "import numpy as np"
   ]
  },
  {
   "cell_type": "markdown",
   "metadata": {},
   "source": [
    "Ahora definimos la función"
   ]
  },
  {
   "cell_type": "code",
   "execution_count": 6,
   "metadata": {},
   "outputs": [
    {
     "data": {
      "text/plain": [
       "array([2.4, 0.8])"
      ]
     },
     "execution_count": 6,
     "metadata": {},
     "output_type": "execute_result"
    }
   ],
   "source": [
    "def proyection(a,b):\n",
    "    return (np.dot(a,b)/np.dot(a,a))*a"
   ]
  },
  {
   "cell_type": "markdown",
   "metadata": {},
   "source": [
    "## ¿Cómo interpretamos la proyección vectorial?\n",
    "Puede ser util cuando se quiere disminuir las dimensiones en el análisis de imágenes, por ejemplo al tener un cubo, podríamos reducirlo en una sola dimensión con su proyección.\n"
   ]
  },
  {
   "cell_type": "markdown",
   "metadata": {},
   "source": [
    "## Utilizando la función del punto anterior calcularla para vectores de ejemplo e interpretar o concluir sobre el resultado."
   ]
  },
  {
   "cell_type": "code",
   "execution_count": 8,
   "metadata": {},
   "outputs": [
    {
     "data": {
      "text/plain": [
       "array([3., 3.])"
      ]
     },
     "execution_count": 8,
     "metadata": {},
     "output_type": "execute_result"
    }
   ],
   "source": [
    "proyection(np.array([3,1]),np.array([1,5]))\n",
    "proyection(np.array([1,1]),np.array([1,5]))"
   ]
  },
  {
   "cell_type": "markdown",
   "metadata": {},
   "source": [
    "El resultado de la proyección es un vector a partir de dos vectores, es decir se puede reducir la dimensionalidad o la complejidad del problema o de varias variables correlacionadas"
   ]
  },
  {
   "cell_type": "markdown",
   "metadata": {},
   "source": [
    "## Investigar o proponer una aplicación o caso de uso de proyección vectorial en ciencia de datos u otras ciencia de tu interés donde se pueda aplicar programación numérica. Como ejemplo o tip para esta parte: un algoritmo muy importante de ML se basa en esto y su nombre puede servir como pista para saber cual es.\n",
    "### Principal Component Analysis\n",
    "Es un procedimiento estadístico que utiliza una transformación ortogonal para convertir un conjunto de observaciones de variables posiblemente correlacionadas, en un conjunto de valores de variables no correlacionadas linealmente llamadas componentes principales."
   ]
  }
 ],
 "metadata": {
  "kernelspec": {
   "display_name": "Python 3",
   "language": "python",
   "name": "python3"
  },
  "language_info": {
   "codemirror_mode": {
    "name": "ipython",
    "version": 3
   },
   "file_extension": ".py",
   "mimetype": "text/x-python",
   "name": "python",
   "nbconvert_exporter": "python",
   "pygments_lexer": "ipython3",
   "version": "3.7.1"
  }
 },
 "nbformat": 4,
 "nbformat_minor": 2
}
